{
 "cells": [
  {
   "cell_type": "markdown",
   "metadata": {},
   "source": [
    "# Common Unconstrained Optimization Methods"
   ]
  },
  {
   "attachments": {},
   "cell_type": "markdown",
   "metadata": {},
   "source": [
    "To start with, we will implement the functions to calculate gradient vector and hessian matrix of a given function precisely."
   ]
  },
  {
   "attachments": {},
   "cell_type": "markdown",
   "metadata": {},
   "source": [
    "Let's set a math func for testing later functions first."
   ]
  },
  {
   "cell_type": "code",
   "execution_count": 93,
   "metadata": {},
   "outputs": [
    {
     "data": {
      "text/latex": [
       "$\\displaystyle x_{1}^{4} - x_{1}^{2} x_{2} - x_{1} x_{3}^{2} + 2 x_{2}^{3} + 4 x_{2} x_{3} + 3 x_{3}^{2}$"
      ],
      "text/plain": [
       "x1**4 - x1**2*x2 - x1*x3**2 + 2*x2**3 + 4*x2*x3 + 3*x3**2"
      ]
     },
     "execution_count": 93,
     "metadata": {},
     "output_type": "execute_result"
    }
   ],
   "source": [
    "from sympy import Symbol, hessian, diff, Matrix\n",
    "import numpy as np\n",
    "\n",
    "\n",
    "x = [Symbol(f'x{i}') for i in range(1, 4)]\n",
    "x0 = [1, 0, 1]\n",
    "func = x[0]**4 + 2* x[1]**3 + 3* x[2]**2 - x[0]**2 * x[1] + 4* x[1]* x[2] - x[0]* x[2]**2 \n",
    "func"
   ]
  },
  {
   "attachments": {},
   "cell_type": "markdown",
   "metadata": {},
   "source": [
    "Here is our function to calculate the gradient vector."
   ]
  },
  {
   "cell_type": "code",
   "execution_count": 87,
   "metadata": {},
   "outputs": [],
   "source": [
    "# FIXME: here is a bug -- if mode is \"symbol\", there's no need to send x0 \n",
    "\n",
    "def gdt(func, vars, x0, mode=\"value\"):\n",
    "    \"\"\"Calculate gradient of func at x0\n",
    "       mode: value, symbol\"\"\"\n",
    "    grad = [diff(func, xi) for xi in vars]\n",
    "    grad_symbol = Matrix([gd for gd in grad])\n",
    "    \n",
    "    n = len(vars)\n",
    "    X0 = {xi: xi_ for xi, xi_ in zip(vars, x0)}\n",
    "    grad_subs = [g.subs(X0) for g in grad]\n",
    "    grad_value = np.array([g.evalf() for g in grad_subs], dtype=float).reshape(n, 1)\n",
    "\n",
    "    if mode == \"value\":\n",
    "        return grad_value\n",
    "    if mode == \"symbol\":\n",
    "        return grad_symbol\n",
    "    if True:\n",
    "        return \"No such mode!\""
   ]
  },
  {
   "cell_type": "code",
   "execution_count": 88,
   "metadata": {},
   "outputs": [
    {
     "data": {
      "text/plain": [
       "array([[3.],\n",
       "       [3.],\n",
       "       [4.]])"
      ]
     },
     "execution_count": 88,
     "metadata": {},
     "output_type": "execute_result"
    }
   ],
   "source": [
    "gdt(func, x, x0, mode=\"value\")"
   ]
  },
  {
   "cell_type": "code",
   "execution_count": 89,
   "metadata": {},
   "outputs": [
    {
     "data": {
      "text/latex": [
       "$\\displaystyle \\left[\\begin{matrix}4 x_{1}^{3} - 2 x_{1} x_{2} - x_{3}^{2}\\\\- x_{1}^{2} + 6 x_{2}^{2} + 4 x_{3}\\\\- 2 x_{1} x_{3} + 4 x_{2} + 6 x_{3}\\end{matrix}\\right]$"
      ],
      "text/plain": [
       "Matrix([\n",
       "[4*x1**3 - 2*x1*x2 - x3**2],\n",
       "[  -x1**2 + 6*x2**2 + 4*x3],\n",
       "[   -2*x1*x3 + 4*x2 + 6*x3]])"
      ]
     },
     "execution_count": 89,
     "metadata": {},
     "output_type": "execute_result"
    }
   ],
   "source": [
    "gdt(func, x, x0, mode=\"symbol\")"
   ]
  },
  {
   "attachments": {},
   "cell_type": "markdown",
   "metadata": {},
   "source": [
    "Here is our function to calculate the hessian matrix."
   ]
  },
  {
   "cell_type": "code",
   "execution_count": 90,
   "metadata": {},
   "outputs": [],
   "source": [
    "# FIXME: here is a bug -- if mode is \"symbol\", there's no need to send x0 \n",
    "\n",
    "def hess(func, vars, x0, mode=\"value\"):\n",
    "    \"\"\"Calculate hessisan matrix of func at x0\n",
    "       mode: value, symbol\"\"\"\n",
    "    hs = hessian(func, vars)\n",
    "    hs_symbol = hs\n",
    "    \n",
    "    n = len(vars)\n",
    "    X0 = {xi: xi_ for xi, xi_ in zip(vars, x0)}\n",
    "    hs_subs = [fs.subs(X0) for fs in hs]\n",
    "    hs_value = np.array([fs.evalf() for fs in hs_subs], dtype=float).reshape(n, n)\n",
    "\n",
    "    if mode == \"value\":\n",
    "        return hs_value\n",
    "    if mode == \"symbol\":\n",
    "        return hs_symbol\n",
    "    if True:\n",
    "        return \"No such mode!\""
   ]
  },
  {
   "cell_type": "code",
   "execution_count": 91,
   "metadata": {},
   "outputs": [
    {
     "data": {
      "text/plain": [
       "array([[12., -2., -2.],\n",
       "       [-2.,  0.,  4.],\n",
       "       [-2.,  4.,  4.]])"
      ]
     },
     "execution_count": 91,
     "metadata": {},
     "output_type": "execute_result"
    }
   ],
   "source": [
    "hess(func, x, x0, mode=\"value\")"
   ]
  },
  {
   "cell_type": "code",
   "execution_count": 92,
   "metadata": {},
   "outputs": [
    {
     "data": {
      "text/latex": [
       "$\\displaystyle \\left[\\begin{matrix}12 x_{1}^{2} - 2 x_{2} & - 2 x_{1} & - 2 x_{3}\\\\- 2 x_{1} & 12 x_{2} & 4\\\\- 2 x_{3} & 4 & 6 - 2 x_{1}\\end{matrix}\\right]$"
      ],
      "text/plain": [
       "Matrix([\n",
       "[12*x1**2 - 2*x2, -2*x1,    -2*x3],\n",
       "[          -2*x1, 12*x2,        4],\n",
       "[          -2*x3,     4, 6 - 2*x1]])"
      ]
     },
     "execution_count": 92,
     "metadata": {},
     "output_type": "execute_result"
    }
   ],
   "source": [
    "hess(func, x, x0, mode=\"symbol\")"
   ]
  }
 ],
 "metadata": {
  "kernelspec": {
   "display_name": "optimal",
   "language": "python",
   "name": "python3"
  },
  "language_info": {
   "codemirror_mode": {
    "name": "ipython",
    "version": 3
   },
   "file_extension": ".py",
   "mimetype": "text/x-python",
   "name": "python",
   "nbconvert_exporter": "python",
   "pygments_lexer": "ipython3",
   "version": "3.8.16"
  },
  "orig_nbformat": 4
 },
 "nbformat": 4,
 "nbformat_minor": 2
}
