{
 "cells": [
  {
   "cell_type": "markdown",
   "metadata": {},
   "source": [
    "# Common Unconstrained Optimization Methods"
   ]
  },
  {
   "attachments": {},
   "cell_type": "markdown",
   "metadata": {},
   "source": [
    "## Preperations"
   ]
  },
  {
   "attachments": {},
   "cell_type": "markdown",
   "metadata": {},
   "source": [
    "To start with, we need some preperations:\n",
    " * A math function for testing other functions.\n",
    " * A function for calculating grandient vetor.\n",
    " * A function for calculating hessian matrix.\n",
    " * A optimizer abstract class for later optimization algrithms."
   ]
  },
  {
   "attachments": {},
   "cell_type": "markdown",
   "metadata": {},
   "source": [
    "Let's set a math func for testing later functions first."
   ]
  },
  {
   "cell_type": "code",
   "execution_count": 1,
   "metadata": {},
   "outputs": [
    {
     "data": {
      "text/latex": [
       "$\\displaystyle x_{1}^{4} - x_{1}^{2} x_{2} - x_{1} x_{3}^{2} + 2 x_{2}^{3} + 4 x_{2} x_{3} + 3 x_{3}^{2}$"
      ],
      "text/plain": [
       "x1**4 - x1**2*x2 - x1*x3**2 + 2*x2**3 + 4*x2*x3 + 3*x3**2"
      ]
     },
     "execution_count": 1,
     "metadata": {},
     "output_type": "execute_result"
    }
   ],
   "source": [
    "from sympy import Symbol, hessian, diff, Matrix, latex\n",
    "import numpy as np\n",
    "\n",
    "\n",
    "x = [Symbol(f'x{i}') for i in range(1, 4)]\n",
    "x0 = [1, 0, 1]\n",
    "func = x[0]**4 + 2* x[1]**3 + 3* x[2]**2 - x[0]**2 * x[1] + 4* x[1]* x[2] - x[0]* x[2]**2 \n",
    "func"
   ]
  },
  {
   "attachments": {},
   "cell_type": "markdown",
   "metadata": {},
   "source": [
    "Here is our function to calculate the gradient vector."
   ]
  },
  {
   "cell_type": "code",
   "execution_count": 2,
   "metadata": {},
   "outputs": [],
   "source": [
    "# FIXME: <mode=\"symbol\"> bug -- if mode is \"symbol\", there's no need to send x0 \n",
    "\n",
    "def gdt(func, vars, x0, mode=\"value\"):\n",
    "    \"\"\"Calculate gradient of func at x0\n",
    "       mode: value, symbol\"\"\"\n",
    "    grad = [diff(func, xi) for xi in vars]\n",
    "    grad_symbol = Matrix([gd for gd in grad])\n",
    "    \n",
    "    n = len(vars)\n",
    "    X0 = {xi: xi_ for xi, xi_ in zip(vars, x0)}\n",
    "    grad_value = np.array([g.subs(X0) for g in grad], dtype=float).reshape(n, 1)\n",
    "\n",
    "    if mode == \"value\":\n",
    "        return grad_value\n",
    "    if mode == \"symbol\":\n",
    "        return grad_symbol\n",
    "    if True:\n",
    "        return \"No such mode!\""
   ]
  },
  {
   "cell_type": "code",
   "execution_count": 3,
   "metadata": {},
   "outputs": [
    {
     "data": {
      "text/plain": [
       "array([[3.],\n",
       "       [3.],\n",
       "       [4.]])"
      ]
     },
     "execution_count": 3,
     "metadata": {},
     "output_type": "execute_result"
    }
   ],
   "source": [
    "gdt(func, x, x0, mode=\"value\")"
   ]
  },
  {
   "cell_type": "code",
   "execution_count": 4,
   "metadata": {},
   "outputs": [
    {
     "data": {
      "text/latex": [
       "$\\displaystyle \\left[\\begin{matrix}4 x_{1}^{3} - 2 x_{1} x_{2} - x_{3}^{2}\\\\- x_{1}^{2} + 6 x_{2}^{2} + 4 x_{3}\\\\- 2 x_{1} x_{3} + 4 x_{2} + 6 x_{3}\\end{matrix}\\right]$"
      ],
      "text/plain": [
       "Matrix([\n",
       "[4*x1**3 - 2*x1*x2 - x3**2],\n",
       "[  -x1**2 + 6*x2**2 + 4*x3],\n",
       "[   -2*x1*x3 + 4*x2 + 6*x3]])"
      ]
     },
     "execution_count": 4,
     "metadata": {},
     "output_type": "execute_result"
    }
   ],
   "source": [
    "gdt(func, x, x0, mode=\"symbol\")"
   ]
  },
  {
   "attachments": {},
   "cell_type": "markdown",
   "metadata": {},
   "source": [
    "Here is our function to calculate the hessian matrix."
   ]
  },
  {
   "cell_type": "code",
   "execution_count": 5,
   "metadata": {},
   "outputs": [],
   "source": [
    "# FIXME: <mode=\"symbol\"> bug -- if mode is \"symbol\", there's no need to send x0 \n",
    "\n",
    "def hess(func, vars, x0, mode=\"value\"):\n",
    "    \"\"\"Calculate hessisan matrix of func at x0\n",
    "       mode: value, symbol\"\"\"\n",
    "    hs = hessian(func, vars)\n",
    "    hs_symbol = hs\n",
    "    \n",
    "    n = len(vars)\n",
    "    X0 = {xi: xi_ for xi, xi_ in zip(vars, x0)}\n",
    "    hs_value = np.array([fs.subs(X0) for fs in hs], dtype=float).reshape(n, n)\n",
    "\n",
    "    if mode == \"value\":\n",
    "        return hs_value\n",
    "    if mode == \"symbol\":\n",
    "        return hs_symbol\n",
    "    if True:\n",
    "        return \"No such mode!\""
   ]
  },
  {
   "cell_type": "code",
   "execution_count": 6,
   "metadata": {},
   "outputs": [
    {
     "data": {
      "text/plain": [
       "array([[12., -2., -2.],\n",
       "       [-2.,  0.,  4.],\n",
       "       [-2.,  4.,  4.]])"
      ]
     },
     "execution_count": 6,
     "metadata": {},
     "output_type": "execute_result"
    }
   ],
   "source": [
    "hess(func, x, x0, mode=\"value\")"
   ]
  },
  {
   "cell_type": "code",
   "execution_count": 7,
   "metadata": {},
   "outputs": [
    {
     "data": {
      "text/latex": [
       "$\\displaystyle \\left[\\begin{matrix}12 x_{1}^{2} - 2 x_{2} & - 2 x_{1} & - 2 x_{3}\\\\- 2 x_{1} & 12 x_{2} & 4\\\\- 2 x_{3} & 4 & 6 - 2 x_{1}\\end{matrix}\\right]$"
      ],
      "text/plain": [
       "Matrix([\n",
       "[12*x1**2 - 2*x2, -2*x1,    -2*x3],\n",
       "[          -2*x1, 12*x2,        4],\n",
       "[          -2*x3,     4, 6 - 2*x1]])"
      ]
     },
     "execution_count": 7,
     "metadata": {},
     "output_type": "execute_result"
    }
   ],
   "source": [
    "hess(func, x, x0, mode=\"symbol\")  "
   ]
  },
  {
   "attachments": {},
   "cell_type": "markdown",
   "metadata": {},
   "source": [
    "Here is our optimizer abstract class"
   ]
  },
  {
   "cell_type": "code",
   "execution_count": 8,
   "metadata": {},
   "outputs": [],
   "source": [
    "import abc\n",
    "\n",
    "\n",
    "class Optimizer(abc.ABC):\n",
    "    \"\"\"For Standered optimization problems.\n",
    "    The difference between different algorithms lies in the different ways of selecting Pk and tk\"\"\"\n",
    "    \n",
    "    def __init__(self, func, vars, X0, tols):\n",
    "        self.func = func\n",
    "        self.vars = vars\n",
    "        self.Xk = X0            # init point\n",
    "        self.iter = 0           # current iteration round k\n",
    "        self.tols = tols\n",
    "\n",
    "    @abc.abstractmethod\n",
    "    def optimal(self):\n",
    "        \"\"\"Find the optimal point\"\"\"\n",
    "        pass\n",
    "\n",
    "    @abc.abstractmethod\n",
    "    def next(self):\n",
    "        \"\"\"Get to next point.\n",
    "        Based on formular: X_k+1 = X_k + tk*Pk\"\"\"\n",
    "        pass\n",
    "\n",
    "    @abc.abstractmethod\n",
    "    def Pk(self):\n",
    "        \"\"\"Compute the direction from X_k to X_k+1\"\"\"\n",
    "        pass\n",
    "    \n",
    "    @abc.abstractmethod\n",
    "    def tk(self):\n",
    "        \"\"\"Compute the step from X_k to X_k+1\"\"\"\n",
    "        pass\n",
    "\n",
    "    @abc.abstractmethod\n",
    "    def tolerance(self):\n",
    "        \"\"\"Determine whether to terminate the iteration\"\"\"\n",
    "        pass"
   ]
  },
  {
   "attachments": {},
   "cell_type": "markdown",
   "metadata": {},
   "source": [
    "Set a simple math function for testing optimizers and easy to draw the picture."
   ]
  },
  {
   "cell_type": "code",
   "execution_count": 9,
   "metadata": {},
   "outputs": [
    {
     "data": {
      "text/latex": [
       "$\\displaystyle x_{1}^{2} + x_{1} x_{2} + 4 x_{2}^{2}$"
      ],
      "text/plain": [
       "x1**2 + x1*x2 + 4*x2**2"
      ]
     },
     "execution_count": 9,
     "metadata": {},
     "output_type": "execute_result"
    }
   ],
   "source": [
    "import matplotlib.pyplot as plt\n",
    "\n",
    "\n",
    "X = [Symbol(f\"x{i}\") for i in [1, 2]]\n",
    "X0 =  [2.5, 0.5]\n",
    "func = X[0]**2 + 4* X[1]**2 + X[0] * X[1]\n",
    "func"
   ]
  },
  {
   "cell_type": "code",
   "execution_count": 10,
   "metadata": {},
   "outputs": [
    {
     "data": {
      "text/latex": [
       "$\\displaystyle 8.5$"
      ],
      "text/plain": [
       "8.50000000000000"
      ]
     },
     "execution_count": 10,
     "metadata": {},
     "output_type": "execute_result"
    }
   ],
   "source": [
    "func.subs({xi: xi_ for xi, xi_ in zip(X, X0)})"
   ]
  },
  {
   "attachments": {},
   "cell_type": "markdown",
   "metadata": {},
   "source": [
    "Draw the picture of the simple math func for a better understanding."
   ]
  },
  {
   "cell_type": "code",
   "execution_count": 11,
   "metadata": {},
   "outputs": [],
   "source": [
    "x1a, x1b, x2a, x2b = -1, 3, -1.5, 1.5\n",
    "\n",
    "x1s = np.linspace(x1a, x1b, 500)\n",
    "x2s = np.linspace(x2a, x2b, 500)\n",
    "x1, x2 = np.meshgrid(x1s, x2s)\n",
    "Xs = np.c_[x1.ravel(), x2.ravel()]\n",
    "Ys = np.array([func.subs({xi: xi_ for xi, xi_ in zip(X, Xi)}) for Xi in Xs], dtype=float).reshape(x1.shape)\n"
   ]
  },
  {
   "cell_type": "code",
   "execution_count": 12,
   "metadata": {},
   "outputs": [
    {
     "data": {
      "image/png": "[encoded data removed]",
      "text/plain": [
       "<Figure size 600x400 with 1 Axes>"
      ]
     },
     "metadata": {},
     "output_type": "display_data"
    }
   ],
   "source": [
    "X_optimal = [0, 0]\n",
    "\n",
    "levelsY = np.linspace(np.min(Ys), np.max(Ys), 10)\n",
    "\n",
    "plt.figure(figsize=(6, 4))\n",
    "plt.title(f\"${latex(func)}$\", fontsize=16)\n",
    "plt.xlabel(\"$x_1$\", fontsize=16)\n",
    "plt.ylabel(\"$x_2$\", fontsize=16)\n",
    "\n",
    "plt.axis([x1a, x1b, x2a, x2b])\n",
    "plt.grid(True)\n",
    "plt.axhline(y=0, color=\"k\")\n",
    "plt.axvline(x=0, color=\"k\")\n",
    "plt.contourf(x1, x2, Ys, levels=levelsY)\n",
    "\n",
    "plt.plot(X0[0], X0[1], \"ys\")\n",
    "plt.plot(X_optimal[0], X_optimal[1], \"rs\")\n",
    "\n",
    "plt.show()"
   ]
  },
  {
   "attachments": {},
   "cell_type": "markdown",
   "metadata": {},
   "source": [
    "## "
   ]
  },
  {
   "attachments": {},
   "cell_type": "markdown",
   "metadata": {},
   "source": [
    "## Steepest Descent Method"
   ]
  },
  {
   "attachments": {},
   "cell_type": "markdown",
   "metadata": {},
   "source": [
    "Principle of this aproach:\n",
    "$$\n",
    "\\begin{align}\n",
    "P_k &= - \\nabla f(X_k) \\\\\n",
    "t_k &= t^*\n",
    "\\end{align}\n",
    "$$\n",
    "Where $t^*$ stands for the optimal step length given the direction at this point. \\\n",
    "\\\n",
    "The iterate step is like:"
   ]
  },
  {
   "cell_type": "code",
   "execution_count": 56,
   "metadata": {},
   "outputs": [],
   "source": [
    "class Steepest(Optimizer):\n",
    "    \"\"\"Pk = -Gradient(f(Xk)), tk = optimal(tk)\"\"\"\n",
    "    def __init__(self, func, vars, X0, tols):\n",
    "        self.func = func\n",
    "        self.vars = vars\n",
    "        self.Xk = np.array(X0)  # init point\n",
    "        self.iter = 0           # current iteration round k\n",
    "        self.tols = tols\n",
    "        self.p_k = None\n",
    "        self.t_k = None\n",
    "        self.X_iters = [self.Xk]     # is used to store each iterate step\n",
    "\n",
    "    def optimal(self):\n",
    "        while not next():\n",
    "            pass\n",
    "\n",
    "    def next(self):\n",
    "        print(f\"----------------{self.iter}------------------\")\n",
    "        print(f\"Iteration round {self.iter} At {self.Xk} : \")\n",
    "        self.p_k = self.Pk()\n",
    "        self.t_k = self.tk()\n",
    "\n",
    "        self.Xk = self.Xk + (self.p_k * self.t_k).reshape(len(self.vars))\n",
    "        self.X_iters.append(self.Xk)\n",
    "        f_next = self.func.subs({xi: xi_ for xi, xi_ in zip(self.vars, self.Xk)})\n",
    "        \n",
    "        if_next = self.tolerance()\n",
    "        if if_next:\n",
    "            print(f\"The optimal point is {self.Xk}\\nAnd optimal value is {f_next}\")\n",
    "        else:      \n",
    "            self.iter = self.iter + 1\n",
    "        \n",
    "        return if_next \n",
    "\n",
    "    def Pk(self):\n",
    "        gradient_k = gdt(self.func, self.vars, self.Xk, mode=\"value\")\n",
    "        print(f\"Gradiend: {gradient_k.reshape(1, len(self.vars))}\")\n",
    "        return gradient_k * (-1)\n",
    "    \n",
    "    # TODO: Still need to add the approach to search t_k \n",
    "    def tk(self):\n",
    "        pass\n",
    "\n",
    "    def tolerance(self):\n",
    "        return abs(np.linalg.norm(self.p_k)) < self.tols[0] "
   ]
  },
  {
   "attachments": {},
   "cell_type": "markdown",
   "metadata": {},
   "source": [
    "## Newton's Method"
   ]
  },
  {
   "attachments": {},
   "cell_type": "markdown",
   "metadata": {},
   "source": [
    "Principle of this approach:\n",
    "$$\n",
    "\\begin{align}\n",
    "P_k &= -[\\nabla^2 f(X_k)]^{-1}\\nabla f(X_k) \\\\\n",
    "t_k &= 1\n",
    "\\end{align}\n",
    "$$\n",
    "\\\n",
    "The iterate step is like:\n",
    "$$"
   ]
  },
  {
   "cell_type": "code",
   "execution_count": 78,
   "metadata": {},
   "outputs": [],
   "source": [
    "class Newton(Optimizer):\n",
    "    \"\"\"Pk = -Gradient(f(Xk)), tk = optimal(tk)\"\"\"\n",
    "    def __init__(self, func, vars, X0, tols):\n",
    "        self.func = func\n",
    "        self.vars = vars\n",
    "        self.Xk = np.array(X0)  # init point\n",
    "        self.iter = 0           # current iteration round k\n",
    "        self.tols = tols\n",
    "        self.p_k = None\n",
    "        self.t_k = None\n",
    "        self.X_iters = [self.Xk]     # is used to store each iterate step\n",
    "\n",
    "    def optimal(self):\n",
    "        while not self.next():\n",
    "            pass\n",
    "\n",
    "    def next(self):\n",
    "        print(f\"----------------{self.iter}------------------\")\n",
    "        print(f\"Iteration round {self.iter} At {self.Xk} : \")\n",
    "        self.p_k = self.Pk()\n",
    "        self.t_k = self.tk()\n",
    "\n",
    "        self.Xk = self.Xk + (self.p_k * self.t_k).reshape(len(self.vars))\n",
    "        (self.X_iters).append(self.Xk)\n",
    "        f_next = self.func.subs({xi: xi_ for xi, xi_ in zip(self.vars, self.Xk)})\n",
    "        \n",
    "        if_next = self.tolerance()\n",
    "        if if_next:\n",
    "            print(f\"The optimal point is {self.Xk}\\nAnd optimal value is {f_next}\")\n",
    "        else:      \n",
    "            self.iter = self.iter + 1\n",
    "        \n",
    "        return if_next \n",
    "\n",
    "    def Pk(self):\n",
    "        gradient_k = gdt(self.func, self.vars, self.Xk, mode=\"value\")\n",
    "        hess_k = hess(self.func, self.vars, self.Xk, mode=\"value\")\n",
    "        print(f\"Gradiend: {gradient_k.reshape(1, len(self.vars))}\")\n",
    "        print(f\"Hessian: \\n{hess_k}\")\n",
    "        return -(np.linalg.inv(hess_k)).dot(gradient_k) \n",
    "    \n",
    "    def tk(self):\n",
    "        return 1\n",
    "\n",
    "    def tolerance(self):\n",
    "        return abs(np.linalg.norm(self.p_k)) < self.tols[0] "
   ]
  },
  {
   "cell_type": "code",
   "execution_count": 79,
   "metadata": {},
   "outputs": [
    {
     "name": "stdout",
     "output_type": "stream",
     "text": [
      "----------------0------------------\n",
      "Iteration round 0 At [2.5 0.5] : \n",
      "Gradiend: [[5.5 6.5]]\n",
      "Hessian: \n",
      "[[2. 1.]\n",
      " [1. 8.]]\n",
      "----------------1------------------\n",
      "Iteration round 1 At [0. 0.] : \n",
      "Gradiend: [[0. 0.]]\n",
      "Hessian: \n",
      "[[2. 1.]\n",
      " [1. 8.]]\n",
      "The optimal point is [0. 0.]\n",
      "And optimal value is 0\n"
     ]
    }
   ],
   "source": [
    "newton = Newton(func, X, X0, tols=[0.01])\n",
    "newton.optimal()"
   ]
  },
  {
   "cell_type": "code",
   "execution_count": 83,
   "metadata": {},
   "outputs": [
    {
     "data": {
      "image/png": "[encoded data removed]",
      "text/plain": [
       "<Figure size 600x400 with 1 Axes>"
      ]
     },
     "metadata": {},
     "output_type": "display_data"
    }
   ],
   "source": [
    "x1_iters = [x[0] for x in newton.X_iters]\n",
    "x2_iters = [x[1] for x in newton.X_iters]\n",
    "\n",
    "levelsY = np.linspace(np.min(Ys), np.max(Ys), 10)\n",
    "\n",
    "plt.figure(figsize=(6, 4))\n",
    "plt.title(f\"${latex(func)}$\", fontsize=16)\n",
    "plt.xlabel(\"$x_1$\", fontsize=16)\n",
    "plt.ylabel(\"$x_2$\", fontsize=16)\n",
    "\n",
    "plt.axis([x1a, x1b, x2a, x2b])\n",
    "plt.grid(True)\n",
    "plt.axhline(y=0, color=\"k\")\n",
    "plt.axvline(x=0, color=\"k\")\n",
    "plt.contourf(x1, x2, Ys, levels=levelsY)\n",
    "\n",
    "plt.plot(X0[0], X0[1], \"ys\")\n",
    "plt.plot(x1_iters, x2_iters, \"y--\")\n",
    "plt.plot(X_optimal[0], X_optimal[1], \"rs\")\n",
    "\n",
    "\n",
    "plt.show()"
   ]
  },
  {
   "attachments": {},
   "cell_type": "markdown",
   "metadata": {},
   "source": [
    "## Modified Newton's Method"
   ]
  },
  {
   "attachments": {},
   "cell_type": "markdown",
   "metadata": {},
   "source": [
    "## Conjugate Direction Method"
   ]
  },
  {
   "attachments": {},
   "cell_type": "markdown",
   "metadata": {},
   "source": [
    "## Conjugate Gradient Method"
   ]
  },
  {
   "attachments": {},
   "cell_type": "markdown",
   "metadata": {},
   "source": [
    "## Variable Metric Method / Quasi-Newton Method"
   ]
  },
  {
   "attachments": {},
   "cell_type": "markdown",
   "metadata": {},
   "source": [
    "## Coordinate Rotation Method"
   ]
  },
  {
   "attachments": {},
   "cell_type": "markdown",
   "metadata": {},
   "source": [
    "## Simplex"
   ]
  }
 ],
 "metadata": {
  "kernelspec": {
   "display_name": "optimal",
   "language": "python",
   "name": "python3"
  },
  "language_info": {
   "codemirror_mode": {
    "name": "ipython",
    "version": 3
   },
   "file_extension": ".py",
   "mimetype": "text/x-python",
   "name": "python",
   "nbconvert_exporter": "python",
   "pygments_lexer": "ipython3",
   "version": "3.8.16"
  },
  "orig_nbformat": 4
 },
 "nbformat": 4,
 "nbformat_minor": 2
}
