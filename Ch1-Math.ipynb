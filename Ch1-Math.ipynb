{
 "cells": [
  {
   "attachments": {},
   "cell_type": "markdown",
   "metadata": {},
   "source": [
    "# Math"
   ]
  },
  {
   "attachments": {},
   "cell_type": "markdown",
   "metadata": {},
   "source": [
    "In this chapter we will talk about some math background knowledge which will be useful later on.\n",
    " 1. Quadratic form and positive definite matrix.\n",
    "  * We will give the definitions of these two and some visualization to give a intuition, and we will implement a function to tell if a matrix is positive definite matrix.\n",
    " 2. Directional derivative, gradient and hessian matrix.\n",
    "  * Give definitions, visualization and functions to calculate these three.\n",
    " 3. Convex function \n",
    "  * Give def, vis of convex function and some ways to implement these tests.\n",
    " 4. Optimality condition of unconstrained optimization.\n",
    "  * Give def, vis and funcs to check if a point X in function f(X) satisfy the condition (or if it's a local minimum point).\n",
    " 5. Optimality condition of constrained optimization.\n",
    "  * K-T test."
   ]
  },
  {
   "attachments": {},
   "cell_type": "markdown",
   "metadata": {},
   "source": [
    "## 1 Quadratic form and positive definite matrix"
   ]
  },
  {
   "cell_type": "code",
   "execution_count": 1,
   "metadata": {},
   "outputs": [
    {
     "name": "stdout",
     "output_type": "stream",
     "text": [
      "A is positive definite matrix\n",
      "B is negative definite matrix\n"
     ]
    }
   ],
   "source": [
    "import sympy as sp\n",
    "\n",
    "# define a positive definite symmetric matrix\n",
    "A = sp.Matrix([\n",
    "    [1, 0.5],\n",
    "    [0.5, 2]\n",
    "])\n",
    "# define a negative definte symmetric matrix\n",
    "B = sp.Matrix([\n",
    "    [1, 0.5],\n",
    "    [0.5, 0]\n",
    "])\n",
    "# define a 3x3 matrix to expand all funcs to atribute dimention\n",
    "C = sp.Matrix([\n",
    "    [5, 2, -4],\n",
    "    [2, 1, -2],\n",
    "    [-4, -2, 5]\n",
    "])\n",
    "\n",
    "print(f\"A is {'positive definite matrix' if A.is_positive_definite else 'negative definite matrix'}\")\n",
    "print(f\"B is {'positive definite matrix' if B.is_positive_definite else 'negative definite matrix'}\")"
   ]
  },
  {
   "cell_type": "code",
   "execution_count": 2,
   "metadata": {},
   "outputs": [
    {
     "data": {
      "text/latex": [
       "$\\displaystyle \\left[\\begin{matrix}x_{0}\\\\x_{1}\\end{matrix}\\right]$"
      ],
      "text/plain": [
       "Matrix([\n",
       "[x0],\n",
       "[x1]])"
      ]
     },
     "execution_count": 2,
     "metadata": {},
     "output_type": "execute_result"
    }
   ],
   "source": [
    "# define variables\n",
    "X_list_2d = [sp.Symbol(f\"x{i}\", real=True) for i in range(2)]\n",
    "X_list_3d = [sp.Symbol(f\"{i}\", real=True) for i in ['a', 'b', 'c']]\n",
    "\n",
    "# a func to generate X vector\n",
    "def vec_X(X_list):\n",
    "    return sp.Matrix([X_list]).reshape(len(X_list), 1)\n",
    "\n",
    "X_2d = vec_X(X_list_2d)\n",
    "X_2d"
   ]
  },
  {
   "cell_type": "code",
   "execution_count": 3,
   "metadata": {},
   "outputs": [
    {
     "data": {
      "text/latex": [
       "$\\displaystyle \\left[\\begin{matrix}a\\\\b\\\\c\\end{matrix}\\right]$"
      ],
      "text/plain": [
       "Matrix([\n",
       "[a],\n",
       "[b],\n",
       "[c]])"
      ]
     },
     "execution_count": 3,
     "metadata": {},
     "output_type": "execute_result"
    }
   ],
   "source": [
    "X_3d = vec_X(X_list_3d)\n",
    "X_3d"
   ]
  },
  {
   "cell_type": "code",
   "execution_count": 4,
   "metadata": {},
   "outputs": [
    {
     "data": {
      "text/latex": [
       "$\\displaystyle x_{0}^{2} + 1.0 x_{0} x_{1} + 2 x_{1}^{2}$"
      ],
      "text/plain": [
       "x0**2 + 1.0*x0*x1 + 2*x1**2"
      ]
     },
     "execution_count": 4,
     "metadata": {},
     "output_type": "execute_result"
    }
   ],
   "source": [
    "# define functions attached to each matrix\n",
    "funcA = sp.expand(sp.MatMul(X_2d.T, A, X_2d))[0]\n",
    "funcA"
   ]
  },
  {
   "cell_type": "code",
   "execution_count": 5,
   "metadata": {},
   "outputs": [
    {
     "data": {
      "text/latex": [
       "$\\displaystyle x_{0}^{2} + 1.0 x_{0} x_{1}$"
      ],
      "text/plain": [
       "x0**2 + 1.0*x0*x1"
      ]
     },
     "execution_count": 5,
     "metadata": {},
     "output_type": "execute_result"
    }
   ],
   "source": [
    "funcB = sp.expand(sp.MatMul(X_2d.T, B, X_2d))[0]\n",
    "funcB"
   ]
  },
  {
   "cell_type": "code",
   "execution_count": 6,
   "metadata": {},
   "outputs": [
    {
     "data": {
      "text/latex": [
       "$\\displaystyle 5 a^{2} + 4 a b - 8 a c + b^{2} - 4 b c + 5 c^{2}$"
      ],
      "text/plain": [
       "5*a**2 + 4*a*b - 8*a*c + b**2 - 4*b*c + 5*c**2"
      ]
     },
     "execution_count": 6,
     "metadata": {},
     "output_type": "execute_result"
    }
   ],
   "source": [
    "funcC = sp.expand(sp.MatMul(X_3d.T, C, X_3d))[0]\n",
    "funcC"
   ]
  },
  {
   "cell_type": "code",
   "execution_count": 7,
   "metadata": {},
   "outputs": [
    {
     "data": {
      "image/png": "[encoded data removed]",
      "text/plain": [
       "<Figure size 600x400 with 1 Axes>"
      ]
     },
     "metadata": {},
     "output_type": "display_data"
    },
    {
     "data": {
      "text/latex": [
       "$\\displaystyle \\left[\\begin{matrix}1 & 0.5\\\\0.5 & 2\\end{matrix}\\right]$"
      ],
      "text/plain": [
       "Matrix([\n",
       "[  1, 0.5],\n",
       "[0.5,   2]])"
      ]
     },
     "execution_count": 7,
     "metadata": {},
     "output_type": "execute_result"
    }
   ],
   "source": [
    "# visualize these two func (only for 2D)\n",
    "import numpy as np\n",
    "import matplotlib.pyplot as plt\n",
    "\n",
    "\n",
    "# implement a function to do the vis\n",
    "def vis_func(func, X_list_2d, x0a=-3, x0b=3, x1a=-2, x1b=2, points=500, levels=10):\n",
    "    func_cal = sp.lambdify(X_list_2d, func)\n",
    "    \n",
    "    x0s = np.linspace(x0a, x0b, points)\n",
    "    x1s = np.linspace(x1a, x1b, points)\n",
    "    x0, x1 = np.meshgrid(x0s, x1s)\n",
    "    Xs = np.c_[x0.ravel(), x1.ravel()]\n",
    "    Ys = np.array([func_cal(Xi[0], Xi[1]) for Xi in Xs], dtype=float).reshape(x1.shape)\n",
    "\n",
    "    levelsY = np.linspace(np.min(Ys), np.max(Ys), levels)\n",
    "\n",
    "    plt.figure(figsize=(6, 4))\n",
    "    plt.title(f\"${sp.latex(func)}$\", fontsize=16)\n",
    "    plt.xlabel(\"$x_0$\", fontsize=16)\n",
    "    plt.ylabel(\"$x_1$\", fontsize=16)\n",
    "\n",
    "    plt.axis([x0a, x0b, x1a, x1b])\n",
    "    plt.grid(True)\n",
    "    plt.axhline(y=0, color=\"k\")\n",
    "    plt.axvline(x=0, color=\"k\")\n",
    "    plt.contourf(x0, x1, Ys, levels=levelsY)\n",
    "\n",
    "    # plt.show() does not put here for plot expanding the code if you need \n",
    "\n",
    "\n",
    "vis_func(funcA, X_list_2d)\n",
    "plt.show()\n",
    "A"
   ]
  },
  {
   "cell_type": "code",
   "execution_count": 8,
   "metadata": {},
   "outputs": [
    {
     "data": {
      "image/png": "[encoded data removed]",
      "text/plain": [
       "<Figure size 600x400 with 1 Axes>"
      ]
     },
     "metadata": {},
     "output_type": "display_data"
    },
    {
     "data": {
      "text/latex": [
       "$\\displaystyle \\left[\\begin{matrix}1 & 0.5\\\\0.5 & 0\\end{matrix}\\right]$"
      ],
      "text/plain": [
       "Matrix([\n",
       "[  1, 0.5],\n",
       "[0.5,   0]])"
      ]
     },
     "execution_count": 8,
     "metadata": {},
     "output_type": "execute_result"
    }
   ],
   "source": [
    "vis_func(funcB, X_list_2d)\n",
    "plt.show()\n",
    "B"
   ]
  },
  {
   "cell_type": "code",
   "execution_count": 9,
   "metadata": {},
   "outputs": [
    {
     "name": "stdout",
     "output_type": "stream",
     "text": [
      "A: True, True\n",
      "B: False, False\n",
      "C: True, True\n"
     ]
    }
   ],
   "source": [
    "# a function which can tell if a matrix is positive definite\n",
    "def is_pdm(matrix):\n",
    "    if matrix.shape[0] != matrix.shape[1]:\n",
    "        return \"This matrix is not a quare matrix\"\n",
    "    \n",
    "    for i in range(1, matrix.shape[0]+1):\n",
    "        # principal subdeterminant\n",
    "        psd = matrix[:i, :i].det()\n",
    "        if psd <= 0:\n",
    "            return False\n",
    "    return True\n",
    "\n",
    "\n",
    "\n",
    "print(f\"A: {A.is_positive_definite}, {is_pdm(A)}\")\n",
    "print(f\"B: {B.is_positive_definite}, {is_pdm(B)}\")\n",
    "print(f\"C: {C.is_positive_definite}, {is_pdm(C)}\")"
   ]
  },
  {
   "attachments": {},
   "cell_type": "markdown",
   "metadata": {},
   "source": [
    "## 2 Directional derivative, gradient and hessian matrix"
   ]
  },
  {
   "cell_type": "code",
   "execution_count": 10,
   "metadata": {},
   "outputs": [
    {
     "name": "stdout",
     "output_type": "stream",
     "text": [
      "[2*x0 + 1.0*x1, 1.0*x0 + 4*x1]\n"
     ]
    },
    {
     "data": {
      "text/latex": [
       "$\\displaystyle \\left[\\begin{matrix}2 x_{0} + 1.0 x_{1} & 1.0 x_{0} + 4 x_{1}\\end{matrix}\\right]$"
      ],
      "text/plain": [
       "Matrix([[2*x0 + 1.0*x1, 1.0*x0 + 4*x1]])"
      ]
     },
     "execution_count": 10,
     "metadata": {},
     "output_type": "execute_result"
    }
   ],
   "source": [
    "# calculate a func's all first-order partial derivatives\n",
    "def partials(X_list, func):\n",
    "    pars = []\n",
    "    for x in X_list:\n",
    "        pars.append(sp.diff(func, x))\n",
    "\n",
    "    return pars\n",
    "\n",
    "\n",
    "pars = partials(X_list_2d, funcA)\n",
    "print(pars)\n",
    "sp.Matrix([pars])"
   ]
  },
  {
   "cell_type": "code",
   "execution_count": 11,
   "metadata": {},
   "outputs": [
    {
     "name": "stdout",
     "output_type": "stream",
     "text": [
      "[10*a + 4*b - 8*c, 4*a + 2*b - 4*c, -8*a - 4*b + 10*c]\n"
     ]
    },
    {
     "data": {
      "text/latex": [
       "$\\displaystyle \\left[\\begin{matrix}10 a + 4 b - 8 c & 4 a + 2 b - 4 c & - 8 a - 4 b + 10 c\\end{matrix}\\right]$"
      ],
      "text/plain": [
       "Matrix([[10*a + 4*b - 8*c, 4*a + 2*b - 4*c, -8*a - 4*b + 10*c]])"
      ]
     },
     "execution_count": 11,
     "metadata": {},
     "output_type": "execute_result"
    }
   ],
   "source": [
    "pars = partials(X_list_3d, funcC)\n",
    "print(pars)\n",
    "sp.Matrix([pars])"
   ]
  },
  {
   "cell_type": "code",
   "execution_count": 12,
   "metadata": {},
   "outputs": [],
   "source": [
    "# calculate directional deribative\n",
    "def dirc_derv(func, X_list, start, end, points):\n",
    "    d = len(X_list)\n",
    "    delta_p = (end - start) / 10**5\n",
    "    delta_p_norm = np.linalg.norm(delta_p)\n",
    "\n",
    "    pars = partials(X_list, func)\n",
    "    par_cals = [sp.lambdify(X_list, par) for par in pars]\n",
    "    \n",
    "    xis = [np.linspace(start[i], end[i], points) for i in range(d)]\n",
    "    Xs = np.array(list(zip(*xis)))\n",
    "\n",
    "    Ys = []\n",
    "    for Xi in Xs: \n",
    "        Y = sum([par(*Xi) * (delta_p[i] / delta_p_norm) for par, i in zip(par_cals, range(d))])\n",
    "        Ys.append(Y)\n",
    "    Ys = np.array(Ys, dtype=float)\n",
    "\n",
    "    return Xs, Ys"
   ]
  },
  {
   "cell_type": "code",
   "execution_count": 13,
   "metadata": {},
   "outputs": [
    {
     "data": {
      "image/png": "[encoded data removed]",
      "text/plain": [
       "<Figure size 600x400 with 1 Axes>"
      ]
     },
     "metadata": {},
     "output_type": "display_data"
    },
    {
     "data": {
      "text/plain": [
       "[-9.2, -6.57, -3.94, -1.31, 1.31, 3.94, 6.57, 9.2]"
      ]
     },
     "execution_count": 13,
     "metadata": {},
     "output_type": "execute_result"
    }
   ],
   "source": [
    "start = np.array([-2, -1.5])\n",
    "end = np.array([2, 1.5])\n",
    "Xs, Ys = dirc_derv(funcA, X_list_2d, start, end, points=8)\n",
    "\n",
    "vis_func(funcA, X_list_2d)\n",
    "plt.plot(Xs[:, 0], Xs[:, 1], \"r.\")\n",
    "plt.arrow(start[0], start[1], end[0]-start[0], end[1]-start[1],\n",
    "        head_width=0.15, head_length=0.3, fc=\"black\", ec=\"black\")\n",
    "plt.show()\n",
    "\n",
    "[round(Y, 2) for Y in Ys]"
   ]
  },
  {
   "cell_type": "code",
   "execution_count": 14,
   "metadata": {},
   "outputs": [
    {
     "data": {
      "text/plain": [
       "[-3.46, -2.47, -1.48, -0.49, 0.49, 1.48, 2.47, 3.46]"
      ]
     },
     "execution_count": 14,
     "metadata": {},
     "output_type": "execute_result"
    }
   ],
   "source": [
    "start = np.array([-1, -1, -1])\n",
    "end = np.array([1, 1, 1])\n",
    "Xs, Ys = dirc_derv(funcC, X_list_3d, start, end, points=8)\n",
    "[round(Y, 2) for Y in Ys]"
   ]
  },
  {
   "cell_type": "code",
   "execution_count": 15,
   "metadata": {},
   "outputs": [],
   "source": [
    "# calculate gradient\n",
    "def gdt(func, X_list, X_value=None):\n",
    "    d = len(X_list)\n",
    "\n",
    "    gdt_exp = partials(X_list, func)\n",
    "    \n",
    "    if X_value:\n",
    "        gdt_val = []\n",
    "        for gdt_e in gdt_exp:\n",
    "            gdt_v = sp.lambdify(X_list, gdt_e)(*X_value)\n",
    "            gdt_val.append(gdt_v)\n",
    "        return sp.Matrix(gdt_val).reshape(d, 1)\n",
    "    \n",
    "    return sp.Matrix([gdt_exp]).reshape(d, 1)"
   ]
  },
  {
   "cell_type": "code",
   "execution_count": 16,
   "metadata": {},
   "outputs": [
    {
     "data": {
      "text/latex": [
       "$\\displaystyle \\left[\\begin{matrix}2 x_{0} + 1.0 x_{1}\\\\1.0 x_{0} + 4 x_{1}\\end{matrix}\\right]$"
      ],
      "text/plain": [
       "Matrix([\n",
       "[2*x0 + 1.0*x1],\n",
       "[1.0*x0 + 4*x1]])"
      ]
     },
     "execution_count": 16,
     "metadata": {},
     "output_type": "execute_result"
    }
   ],
   "source": [
    "gdt(funcA, X_list_2d)"
   ]
  },
  {
   "cell_type": "code",
   "execution_count": 17,
   "metadata": {},
   "outputs": [
    {
     "data": {
      "text/latex": [
       "$\\displaystyle \\left[\\begin{matrix}4.0\\\\9.0\\end{matrix}\\right]$"
      ],
      "text/plain": [
       "Matrix([\n",
       "[4.0],\n",
       "[9.0]])"
      ]
     },
     "execution_count": 17,
     "metadata": {},
     "output_type": "execute_result"
    }
   ],
   "source": [
    "gdt(funcA, X_list_2d, X_value=[1, 2])"
   ]
  },
  {
   "cell_type": "code",
   "execution_count": 18,
   "metadata": {},
   "outputs": [
    {
     "data": {
      "text/latex": [
       "$\\displaystyle \\left[\\begin{matrix}10 a + 4 b - 8 c\\\\4 a + 2 b - 4 c\\\\- 8 a - 4 b + 10 c\\end{matrix}\\right]$"
      ],
      "text/plain": [
       "Matrix([\n",
       "[ 10*a + 4*b - 8*c],\n",
       "[  4*a + 2*b - 4*c],\n",
       "[-8*a - 4*b + 10*c]])"
      ]
     },
     "execution_count": 18,
     "metadata": {},
     "output_type": "execute_result"
    }
   ],
   "source": [
    "gdt(funcC, X_list_3d)"
   ]
  },
  {
   "cell_type": "code",
   "execution_count": 19,
   "metadata": {},
   "outputs": [
    {
     "data": {
      "text/latex": [
       "$\\displaystyle \\left[\\begin{matrix}6\\\\2\\\\-2\\end{matrix}\\right]$"
      ],
      "text/plain": [
       "Matrix([\n",
       "[ 6],\n",
       "[ 2],\n",
       "[-2]])"
      ]
     },
     "execution_count": 19,
     "metadata": {},
     "output_type": "execute_result"
    }
   ],
   "source": [
    "gdt(funcC, X_list_3d, X_value=[1, 1, 1])"
   ]
  },
  {
   "cell_type": "code",
   "execution_count": 20,
   "metadata": {},
   "outputs": [],
   "source": [
    "# calculate heesian matrix\n",
    "def hess(func, X_list, X_value=None):\n",
    "    d = len(X_list)\n",
    "\n",
    "    # first-order derivative --- gradient vector\n",
    "    gdt_exp = partials(X_list, func)\n",
    "    # second-order derivative --- hessian matrix\n",
    "    hess_exp = []\n",
    "    for gdt_e in gdt_exp:\n",
    "        hess_exp.append(partials(X_list, gdt_e))\n",
    "\n",
    "    if X_value:\n",
    "        hess_val = []\n",
    "        for hess_e in hess_exp:\n",
    "            hess_v = [sp.lambdify(X_list, hess_)(*X_value) for hess_ in hess_e]            \n",
    "            hess_val.append(hess_v)\n",
    "        return sp.Matrix(hess_val).reshape(d, d)\n",
    "    \n",
    "    return sp.Matrix(hess_exp).reshape(d, d)"
   ]
  },
  {
   "cell_type": "code",
   "execution_count": 21,
   "metadata": {},
   "outputs": [
    {
     "data": {
      "text/latex": [
       "$\\displaystyle \\left[\\begin{matrix}2 & 1.0\\\\1.0 & 4\\end{matrix}\\right]$"
      ],
      "text/plain": [
       "Matrix([\n",
       "[  2, 1.0],\n",
       "[1.0,   4]])"
      ]
     },
     "execution_count": 21,
     "metadata": {},
     "output_type": "execute_result"
    }
   ],
   "source": [
    "hess(funcA, X_list_2d)"
   ]
  },
  {
   "cell_type": "code",
   "execution_count": 22,
   "metadata": {},
   "outputs": [
    {
     "data": {
      "text/latex": [
       "$\\displaystyle \\left[\\begin{matrix}2 & 1.0\\\\1.0 & 4\\end{matrix}\\right]$"
      ],
      "text/plain": [
       "Matrix([\n",
       "[  2, 1.0],\n",
       "[1.0,   4]])"
      ]
     },
     "execution_count": 22,
     "metadata": {},
     "output_type": "execute_result"
    }
   ],
   "source": [
    "sp.hessian(funcA, varlist=X_list_2d)"
   ]
  },
  {
   "cell_type": "code",
   "execution_count": 23,
   "metadata": {},
   "outputs": [
    {
     "data": {
      "text/latex": [
       "$\\displaystyle \\left[\\begin{matrix}10 & 4 & -8\\\\4 & 2 & -4\\\\-8 & -4 & 10\\end{matrix}\\right]$"
      ],
      "text/plain": [
       "Matrix([\n",
       "[10,  4, -8],\n",
       "[ 4,  2, -4],\n",
       "[-8, -4, 10]])"
      ]
     },
     "execution_count": 23,
     "metadata": {},
     "output_type": "execute_result"
    }
   ],
   "source": [
    "hess(funcC, X_list_3d)"
   ]
  },
  {
   "cell_type": "code",
   "execution_count": 24,
   "metadata": {},
   "outputs": [
    {
     "data": {
      "text/latex": [
       "$\\displaystyle \\left[\\begin{matrix}10 & 4 & -8\\\\4 & 2 & -4\\\\-8 & -4 & 10\\end{matrix}\\right]$"
      ],
      "text/plain": [
       "Matrix([\n",
       "[10,  4, -8],\n",
       "[ 4,  2, -4],\n",
       "[-8, -4, 10]])"
      ]
     },
     "execution_count": 24,
     "metadata": {},
     "output_type": "execute_result"
    }
   ],
   "source": [
    "sp.hessian(funcC, varlist=X_list_3d)"
   ]
  },
  {
   "attachments": {},
   "cell_type": "markdown",
   "metadata": {},
   "source": [
    "## 3 Convex function"
   ]
  },
  {
   "cell_type": "code",
   "execution_count": 25,
   "metadata": {},
   "outputs": [],
   "source": [
    "# a test to tell if a func is convex, only for quadratic form\n",
    "def is_cvx(func, X_list):\n",
    "    \"\"\"ONLY for quadratic form\"\"\"\n",
    "    d = len(X_list)\n",
    "    \n",
    "    hess_exp = hess(func, X_list)\n",
    "    hess_val = hess(func, X_list, [0]*d)\n",
    "\n",
    "    if hess_exp != hess_val:\n",
    "        return \"This func is not quadratic form!\"\n",
    "    \n",
    "    return is_pdm(hess_exp)\n",
    "    "
   ]
  },
  {
   "cell_type": "code",
   "execution_count": 26,
   "metadata": {},
   "outputs": [
    {
     "data": {
      "text/plain": [
       "(True, False, True)"
      ]
     },
     "execution_count": 26,
     "metadata": {},
     "output_type": "execute_result"
    }
   ],
   "source": [
    "is_cvx(funcA, X_list_2d), is_cvx(funcB, X_list_2d), is_cvx(funcC, X_list_3d)"
   ]
  },
  {
   "attachments": {},
   "cell_type": "markdown",
   "metadata": {},
   "source": [
    "## 4 Optimality condition of unconstrained optimization"
   ]
  },
  {
   "cell_type": "code",
   "execution_count": 27,
   "metadata": {},
   "outputs": [
    {
     "data": {
      "text/plain": [
       "(True, False, False)"
      ]
     },
     "execution_count": 27,
     "metadata": {},
     "output_type": "execute_result"
    }
   ],
   "source": [
    "# optimal condition check for unconstrained problems\n",
    "def is_opt_unc(func, X_list, X_value, tol=10e-5):\n",
    "    \"\"\"check if X-value is a local minimum point\n",
    "    for convex functions, local minimum point is their globle minmum point\n",
    "    tol is the tolerance of this problem\"\"\"\n",
    "    gdt_v = np.array(gdt(func, X_list, X_value), dtype=float)\n",
    "    hess_v = hess(func, X_list, X_value)\n",
    "    if np.linalg.norm(gdt_v) < tol and is_pdm(hess_v):\n",
    "        return True\n",
    "    return False\n",
    "\n",
    "\n",
    "is_opt_unc(funcA, X_list_2d, [0, 0]), is_opt_unc(funcB, X_list_2d, [0, 0]), is_opt_unc(funcC, X_list_3d, [0, 0, 1])"
   ]
  },
  {
   "attachments": {},
   "cell_type": "markdown",
   "metadata": {},
   "source": [
    "## 5 Optimality condition of constrained optimization"
   ]
  },
  {
   "cell_type": "code",
   "execution_count": 28,
   "metadata": {},
   "outputs": [
    {
     "data": {
      "image/png": "[encoded data removed]",
      "text/plain": [
       "<Figure size 600x400 with 1 Axes>"
      ]
     },
     "metadata": {},
     "output_type": "display_data"
    }
   ],
   "source": [
    "# make constrains\n",
    "# inequal constrains (points)\n",
    "vis_func(funcA, X_list_2d)\n",
    "G1_p = np.array([[0, -1.5], [2, 1]])\n",
    "G2_p = np.array([[-2, 0.5], [2, 1]])\n",
    "G3_p = np.array([[0, -1.5], [-2, 0.5]])\n",
    "for Gi_p in [G1_p, G2_p, G3_p]:\n",
    "    plt.plot(Gi_p[:, 0], Gi_p[:, 1], \"g\")\n",
    "\n",
    "# equal constrains\n",
    "H1_p = np.array([[-2, -1], [3, 1.5]])\n",
    "H2_p = np.array([[-2, 1], [0, -2]])\n",
    "for Hi_p in [H1_p, H2_p]:\n",
    "    plt.plot(Hi_p[:, 0], Hi_p[:, 1], \"b\")\n",
    "\n",
    "# point we need to check if it's optimal\n",
    "x_val_1 = [-1, -0.5]\n",
    "x_val_2 = [0, 0]\n",
    "plt.plot(x_val_1[0], x_val_1[1], \"ro\")\n",
    "plt.plot(x_val_2[0], x_val_2[1], \"ko\")\n",
    "\n",
    "plt.show()"
   ]
  },
  {
   "cell_type": "code",
   "execution_count": 29,
   "metadata": {},
   "outputs": [],
   "source": [
    "# trans points to hyper plane, hyper plane: b^T \\times X, only conosider 2D\n",
    "def ps2hp(X_list, X_points):\n",
    "    d = 2\n",
    "\n",
    "    A = np.array(X_points)\n",
    "    if A.shape[0] < d and A.shape[1] < d: \n",
    "        return \"Lack of points\"\n",
    "    A = A[:d,:d]\n",
    "    \n",
    "    # check if this hyper plane contrains 0 point, We don't consider this equaltion has no solution \n",
    "    if np.linalg.det(A) == 0:\n",
    "        return sp.nsimplify(X_points[0, 1]/X_points[0, 0])*X_list[0] - X_list[1]\n",
    "    \n",
    "    b = np.array([[1], [1]])\n",
    "    X_theta = np.matmul(np.linalg.inv(A), b)\n",
    "    X_theta = sp.Matrix([[sp.nsimplify(theta, tolerance=0.001)] for theta in X_theta[:, 0]])\n",
    "    \n",
    "    return sp.expand(sp.MatMul(X_theta.T, vec_X(X_list)))[0] -1"
   ]
  },
  {
   "cell_type": "code",
   "execution_count": 30,
   "metadata": {},
   "outputs": [
    {
     "data": {
      "text/latex": [
       "$\\displaystyle - 5 x_{0} + 4 x_{1} + 6$"
      ],
      "text/plain": [
       "-5*x0 + 4*x1 + 6"
      ]
     },
     "execution_count": 30,
     "metadata": {},
     "output_type": "execute_result"
    }
   ],
   "source": [
    "# inequal constrains (>=0)\n",
    "G1_c = - ps2hp(X_list_2d, G1_p)*6\n",
    "G1_c"
   ]
  },
  {
   "cell_type": "code",
   "execution_count": 31,
   "metadata": {},
   "outputs": [
    {
     "data": {
      "text/latex": [
       "$\\displaystyle x_{0} - 8 x_{1} + 6$"
      ],
      "text/plain": [
       "x0 - 8*x1 + 6"
      ]
     },
     "execution_count": 31,
     "metadata": {},
     "output_type": "execute_result"
    }
   ],
   "source": [
    "G2_c = - ps2hp(X_list_2d, G2_p)*6\n",
    "G2_c"
   ]
  },
  {
   "cell_type": "code",
   "execution_count": 32,
   "metadata": {},
   "outputs": [
    {
     "data": {
      "text/latex": [
       "$\\displaystyle 2 x_{0} + 2 x_{1} + 3$"
      ],
      "text/plain": [
       "2*x0 + 2*x1 + 3"
      ]
     },
     "execution_count": 32,
     "metadata": {},
     "output_type": "execute_result"
    }
   ],
   "source": [
    "G3_c = - ps2hp(X_list_2d, G3_p)*3\n",
    "G3_c"
   ]
  },
  {
   "cell_type": "code",
   "execution_count": 33,
   "metadata": {},
   "outputs": [],
   "source": [
    "G_cs = [G1_c, G2_c, G3_c]"
   ]
  },
  {
   "cell_type": "code",
   "execution_count": 34,
   "metadata": {},
   "outputs": [
    {
     "data": {
      "text/latex": [
       "$\\displaystyle x_{0} - 2 x_{1}$"
      ],
      "text/plain": [
       "x0 - 2*x1"
      ]
     },
     "execution_count": 34,
     "metadata": {},
     "output_type": "execute_result"
    }
   ],
   "source": [
    "H1_c = ps2hp(X_list_2d, H1_p)*2\n",
    "H1_c"
   ]
  },
  {
   "cell_type": "code",
   "execution_count": 35,
   "metadata": {},
   "outputs": [
    {
     "data": {
      "text/latex": [
       "$\\displaystyle \\frac{3 x_{0}}{4} + \\frac{x_{1}}{2} + 1$"
      ],
      "text/plain": [
       "3*x0/4 + x1/2 + 1"
      ]
     },
     "execution_count": 35,
     "metadata": {},
     "output_type": "execute_result"
    }
   ],
   "source": [
    "H2_c = - ps2hp(X_list_2d, H2_p)\n",
    "H2_c"
   ]
  },
  {
   "cell_type": "code",
   "execution_count": 36,
   "metadata": {},
   "outputs": [],
   "source": [
    "H_cs = [H1_c, H2_c]"
   ]
  },
  {
   "cell_type": "code",
   "execution_count": 61,
   "metadata": {},
   "outputs": [],
   "source": [
    "# K-T condition check\n",
    "def is_opt_c(func, X_list, X_value, Gs=None, Hs=None, tol=10e-5, check_in=True):\n",
    "    \"\"\"check if X_value satisfies minimum condition,\n",
    "    Gs are all inequal constrains (>=0), Hs are all equal constrains\n",
    "    when check_in is True, is_opt_c will check if X_value is in feasible domain\n",
    "    when Gs=Hs=None, it becomes the necessary condition check of local minimum for unconstrain problems\"\"\"\n",
    "    d = len(X_list)\n",
    "    n_l = len(Gs) if Gs else 0\n",
    "    n_u = len(Hs) if Hs else 0\n",
    "\n",
    "    Gs_cal = [sp.lambdify(X_list, G) for G in Gs] if Gs else None\n",
    "    Hs_cal = [sp.lambdify(X_list, H) for H in Hs] if Hs else None\n",
    "\n",
    "    # feasible check\n",
    "    if check_in:\n",
    "        Gs_fea = [not(Gs_c(*X_value)>=0) for Gs_c in Gs_cal] if Gs else [False]\n",
    "        Hs_fea = [not(Hs_c(*X_value)==0) for Hs_c in Hs_cal] if Hs else [False]\n",
    "\n",
    "        if sum(Gs_fea) or sum(Hs_fea):\n",
    "            return \"X_value is not in feasible domain!\"\n",
    "        \n",
    "    # get ls and us\n",
    "    # l*g(X) has to be 0\n",
    "    ls = [sp.Symbol(f\"l{i}\") if Gs_cal[i](*X_value) == 0 else 0 for i in range(n_l)] if Gs else None\n",
    "    us = [sp.Symbol(f\"u{i}\") for i in range(n_u)] if Hs else None\n",
    "\n",
    "    # calculate all gradients\n",
    "    func_gdt_v = gdt(func, X_list, X_value)\n",
    "    Gs_gdt_v = [gdt(G, X_list, X_value) for G in Gs] if Gs else None\n",
    "    Hs_gdt_v = [gdt(H, X_list, X_value) for H in Hs] if Hs else None\n",
    "\n",
    "    # turn them into matrix\n",
    "    func_gdt_m = func_gdt_v\n",
    "    Gs_gdt_m = c_(Gs_gdt_v) if Gs else None\n",
    "    ls_m = vec_X(ls) if Gs else None\n",
    "    Hs_gdt_m = c_(Hs_gdt_v) if Hs else None\n",
    "    us_m = vec_X(us) if Hs else None\n",
    "    \n",
    "    # calculate each K-T part\n",
    "    l_times_gdtG = sp.MatMul(Gs_gdt_m, ls_m) if Gs else sp.Matrix([[0] for i in range(d)])\n",
    "    u_times_gdtH = sp.MatMul(Hs_gdt_m, us_m) if Hs else sp.Matrix([[0] for i in range(d)])\n",
    "\n",
    "    return func_gdt_m - l_times_gdtG - u_times_gdtH\n",
    "\n",
    "\n",
    "def c_(Vec_list):\n",
    "    Mtr = Vec_list[0]\n",
    "    for vec in Vec_list[1:]:\n",
    "        Mtr = Mtr.row_join(vec)\n",
    "    return Mtr"
   ]
  },
  {
   "cell_type": "code",
   "execution_count": 62,
   "metadata": {},
   "outputs": [
    {
     "data": {
      "text/latex": [
       "$\\displaystyle \\left[\\begin{matrix}- 2 l_{2} - 2.5\\\\- 2 l_{2} - 3.0\\end{matrix}\\right]$"
      ],
      "text/plain": [
       "Matrix([\n",
       "[-2*l2 - 2.5],\n",
       "[-2*l2 - 3.0]])"
      ]
     },
     "execution_count": 62,
     "metadata": {},
     "output_type": "execute_result"
    }
   ],
   "source": [
    "is_opt_c(funcA, X_list_2d, x_val_1, Gs=G_cs)"
   ]
  },
  {
   "cell_type": "code",
   "execution_count": 64,
   "metadata": {},
   "outputs": [
    {
     "data": {
      "text/latex": [
       "$\\displaystyle \\left[\\begin{matrix}0\\\\0\\end{matrix}\\right]$"
      ],
      "text/plain": [
       "Matrix([\n",
       "[0],\n",
       "[0]])"
      ]
     },
     "execution_count": 64,
     "metadata": {},
     "output_type": "execute_result"
    }
   ],
   "source": [
    "is_opt_c(funcA, X_list_2d, x_val_2, Gs=G_cs)"
   ]
  }
 ],
 "metadata": {
  "kernelspec": {
   "display_name": "optimal",
   "language": "python",
   "name": "python3"
  },
  "language_info": {
   "codemirror_mode": {
    "name": "ipython",
    "version": 3
   },
   "file_extension": ".py",
   "mimetype": "text/x-python",
   "name": "python",
   "nbconvert_exporter": "python",
   "pygments_lexer": "ipython3",
   "version": "3.8.16"
  },
  "orig_nbformat": 4
 },
 "nbformat": 4,
 "nbformat_minor": 2
}
